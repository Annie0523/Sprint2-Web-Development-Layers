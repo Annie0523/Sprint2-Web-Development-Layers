{
 "cells": [
  {
   "cell_type": "markdown",
   "metadata": {},
   "source": [
    "---\n",
    "toc: false\n",
    "comments: true\n",
    "layout: post\n",
    "title: 3.3 Mathematical Expressions\n",
    "description: Student led teaching on  Mathematical Expressions. Learn how mathematical expressions involve using arithmetic operators (like addition, subtraction, multiplication, and division) to perform calculations\n",
    "permalink: /csp/big-idea/3-3\n",
    "categories: [CSP Big Ideas]\n",
    "author: Bailey, Travis, Leon, Anyi\n",
    "menu: nav/csp_units/csp_unit3_p1_fundamentals.html\n",
    "---"
   ]
  },
  {
   "cell_type": "markdown",
   "metadata": {},
   "source": [
    "## Mathematical Operations\n",
    "- Addition: a + b\n",
    "- Subtraction: a - b\n",
    "- Multiplication: a * b\n",
    "- Division: a / b\n",
    "- Modulus (remainder of a/b): JavaScript: a MOD b, Python: a % b\n",
    "\n",
    "- Math is performed according to order of operations (PEMDAS)\n",
    "- Modulus is performed at the same time as multiplication or division"
   ]
  },
  {
   "cell_type": "markdown",
   "metadata": {},
   "source": [
    "## Example 1\n",
    "Write a function that will output a y value for y = 7(x+4)-6 when given an input of an x value. "
   ]
  },
  {
   "cell_type": "code",
   "execution_count": null,
   "metadata": {},
   "outputs": [],
   "source": [
    "# Defines the function so that it can be called later\n",
    "def output(x):\n",
    "    # Prints the output by first performing x plus 4, then that quantity times 7 and finally subtracting 6 from that answer.\n",
    "    print(7 * (x + 4) - 6)"
   ]
  },
  {
   "cell_type": "markdown",
   "metadata": {},
   "source": [
    "## Example 2\n",
    "What will the code below print?"
   ]
  },
  {
   "cell_type": "code",
   "execution_count": null,
   "metadata": {},
   "outputs": [],
   "source": [
    "number1 = 8\n",
    "number2 = 3\n",
    "number3 = number1 % number2\n",
    "number4 = number3 * number1 + 70\n",
    "print(number4)"
   ]
  }
 ],
 "metadata": {
  "language_info": {
   "name": "python"
  }
 },
 "nbformat": 4,
 "nbformat_minor": 2
}
