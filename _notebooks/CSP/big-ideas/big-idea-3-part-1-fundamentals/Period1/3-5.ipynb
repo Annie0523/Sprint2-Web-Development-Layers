{
 "cells": [
  {
   "cell_type": "markdown",
   "metadata": {},
   "source": [
    "---\n",
    "toc: false\n",
    "comments: true\n",
    "layout: post\n",
    "title: 3.5 Booleans\n",
    "description: Student led teaching on Booleans. Learn how booleans are used in decision-making with logical operators (like less than or greater than).\n",
    "permalink: /csp/big-idea/3-3\n",
    "categories: [CSP Big Ideas]\n",
    "author: Bailey, Travis, Leon, Anyi\n",
    "menu: nav/csp_units/csp_unit3_p1_fundamentals.html\n",
    "---"
   ]
  },
  {
   "cell_type": "code",
   "execution_count": null,
   "metadata": {
    "vscode": {
     "languageId": "javascript"
    }
   },
   "outputs": [],
   "source": [
    "var variableA = true;\n",
    "var variableB = false;\n",
    "\n",
    "if (variableA == true) {\n",
    "    console.log(\"VariableA is true!\");\n",
    "} else if (variableA == false) {\n",
    "    console.log(\"VariableA is false!\")\n",
    "}\n",
    "\n",
    "if (variableA == true && variableB == false) {\n",
    "    \"variableA is true and variableB is false\"\n",
    "}\n",
    "\n",
    "if (variableA == true || variableB == true) {\n",
    "    \"Either variableA or variableB is true\"\n",
    "}"
   ]
  },
  {
   "cell_type": "code",
   "execution_count": null,
   "metadata": {
    "vscode": {
     "languageId": "javascript"
    }
   },
   "outputs": [],
   "source": []
  }
 ],
 "metadata": {
  "kernelspec": {
   "display_name": "Python 3",
   "language": "python",
   "name": "python3"
  },
  "language_info": {
   "codemirror_mode": {
    "name": "ipython",
    "version": 3
   },
   "file_extension": ".py",
   "mimetype": "text/x-python",
   "name": "python",
   "nbconvert_exporter": "python",
   "pygments_lexer": "ipython3",
   "version": "3.10.12"
  }
 },
 "nbformat": 4,
 "nbformat_minor": 2
}
