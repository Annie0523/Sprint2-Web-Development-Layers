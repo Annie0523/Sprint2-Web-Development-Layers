{
 "cells": [
  {
   "cell_type": "code",
   "execution_count": null,
   "metadata": {
    "vscode": {
     "languageId": "javascript"
    }
   },
   "outputs": [],
   "source": [
    "var variableA = true;\n",
    "var variableB = false;\n",
    "\n",
    "if (variableA == true) {\n",
    "    console.log(\"VariableA is true!\");\n",
    "} else if (variableA == false) {\n",
    "    console.log(\"VariableA is false!\")\n",
    "}\n",
    "\n",
    "if (variableA == true && variableB == false) {\n",
    "    \"variableA is true and variableB is false\"\n",
    "}\n",
    "\n",
    "if (variableA == true || variableB == true) {\n",
    "    \"Either variableA or variableB is true\"\n",
    "}"
   ]
  },
  {
   "cell_type": "code",
   "execution_count": null,
   "metadata": {
    "vscode": {
     "languageId": "javascript"
    }
   },
   "outputs": [],
   "source": []
  }
 ],
 "metadata": {
  "kernelspec": {
   "display_name": "Python 3",
   "language": "python",
   "name": "python3"
  },
  "language_info": {
   "codemirror_mode": {
    "name": "ipython",
    "version": 3
   },
   "file_extension": ".py",
   "mimetype": "text/x-python",
   "name": "python",
   "nbconvert_exporter": "python",
   "pygments_lexer": "ipython3",
   "version": "3.10.12"
  }
 },
 "nbformat": 4,
 "nbformat_minor": 2
}
